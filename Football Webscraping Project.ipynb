{
 "cells": [
  {
   "cell_type": "code",
   "execution_count": 1,
   "metadata": {},
   "outputs": [],
   "source": [
    "from gazpacho import get, Soup"
   ]
  },
  {
   "cell_type": "code",
   "execution_count": 2,
   "metadata": {},
   "outputs": [],
   "source": [
    "url = 'https://www.footballcritic.com/uefa-champions-league-fc-kobenhavn-manchester-city-fc/player-stats/3233480'"
   ]
  },
  {
   "cell_type": "code",
   "execution_count": 3,
   "metadata": {},
   "outputs": [],
   "source": [
    "html = get(url)\n",
    "soup = Soup(html)\n"
   ]
  },
  {
   "cell_type": "code",
   "execution_count": 4,
   "metadata": {},
   "outputs": [
    {
     "name": "stdout",
     "output_type": "stream",
     "text": [
      "[4.6, 8.8, 5.3, 7.2, 7.4, 7.9, 8.0, 7.8, 7.8, 8.9, 9.8, 5.9, 6.4, 7.3, 7.4, 5.2, 5.2, 5.8, 5.3, 5.4, 5.3, 6.2, 6.2, 5.2, 5.3, 5.4, 5.3, 91.0, 76.0, 80.0, 75.0, 96.0, 83.0, 73.0]\n"
     ]
    }
   ],
   "source": [
    "ratings = []\n",
    "ratings = soup.find('div', {'class': 'rating'})\n",
    "ratings = [float(rating.strip()) for rating in ratings if rating.strip() != 'N/A']\n",
    "print(ratings)    "
   ]
  },
  {
   "cell_type": "code",
   "execution_count": 41,
   "metadata": {},
   "outputs": [
    {
     "name": "stdout",
     "output_type": "stream",
     "text": [
      "['Man City', 'Man City', 'Man City', 'Man City', 'Man City', 'Man City', 'Man City', 'Man City', 'Man City', 'Man City', 'Man City', 'Man City', 'Man City', 'København', 'København', 'København', 'København', 'København', 'København', 'København', 'København', 'København', 'København', 'København', 'København', 'København', 'København', 'København']\n"
     ]
    },
    {
     "data": {
      "text/plain": [
       "28"
      ]
     },
     "execution_count": 41,
     "metadata": {},
     "output_type": "execute_result"
    }
   ],
   "source": [
    "clubs = []\n",
    "clubs = soup.find('td', {'class': 'clubLogo cel_ALL'})\n",
    "clubs = [club.find('img').attrs['alt'] for club in clubs]\n",
    "clubs = [club.replace('Logo of ', '') for club in clubs]\n",
    "print(clubs)\n",
    "len(clubs)"
   ]
  },
  {
   "cell_type": "code",
   "execution_count": 42,
   "metadata": {},
   "outputs": [
    {
     "name": "stdout",
     "output_type": "stream",
     "text": [
      "[4.6, 8.8, 5.3, 7.2, 7.4, 7.9, 8.0, 7.8, 7.8, 8.9, 9.8, 5.9, 6.4, 7.3, 7.4, 5.2, 5.2, 5.8, 5.3, 5.4, 5.3, 6.2, 6.2, 5.2, 5.3, 5.4, 5.3]\n"
     ]
    },
    {
     "data": {
      "text/plain": [
       "27"
      ]
     },
     "execution_count": 42,
     "metadata": {},
     "output_type": "execute_result"
    }
   ],
   "source": [
    "convertedRatings = []\n",
    "for rating in ratings:\n",
    "    if rating < 11:\n",
    "        convertedRatings.append(rating)\n",
    "print(convertedRatings)\n",
    "len(convertedRatings)      "
   ]
  },
  {
   "cell_type": "code",
   "execution_count": 7,
   "metadata": {},
   "outputs": [
    {
     "name": "stdout",
     "output_type": "stream",
     "text": [
      "[<img src=\"https://www.sportsbase.io/images/clubs/2167.png\" alt=\"Logo of København\" style=\"height:22px;float:left;margin-left:8px;\">, <img src=\"https://www.sportsbase.io/images/clubs/2167.png\" alt=\"Logo of København\" style=\"height:22px;float:left;margin-left:8px;\">, <img src=\"https://www.sportsbase.io/images/clubs/2167.png\" alt=\"Logo of København\" style=\"height:22px;float:left;margin-left:8px;\">, <img src=\"https://www.sportsbase.io/images/clubs/2167.png\" alt=\"Logo of København\" style=\"height:22px;float:left;margin-left:8px;\">, <img src=\"https://www.sportsbase.io/images/clubs/2167.png\" alt=\"Logo of København\" style=\"height:22px;float:left;margin-left:8px;\">, <img src=\"https://www.sportsbase.io/images/clubs/2167.png\" alt=\"Logo of København\" style=\"height:22px;float:left;margin-left:8px;\">, <img src=\"https://www.sportsbase.io/images/clubs/2167.png\" alt=\"Logo of København\" style=\"height:22px;float:left;margin-left:8px;\">, <img src=\"https://www.sportsbase.io/images/clubs/2167.png\" alt=\"Logo of København\" style=\"height:22px;float:left;margin-left:8px;\">, <img src=\"https://www.sportsbase.io/images/clubs/2167.png\" alt=\"Logo of København\" style=\"height:22px;float:left;margin-left:8px;\">, <img src=\"https://www.sportsbase.io/images/clubs/2167.png\" alt=\"Logo of København\" style=\"height:22px;float:left;margin-left:8px;\">, <img src=\"https://www.sportsbase.io/images/clubs/2167.png\" alt=\"Logo of København\" style=\"height:22px;float:left;margin-left:8px;\">, <img src=\"https://www.sportsbase.io/images/clubs/2167.png\" alt=\"Logo of København\" style=\"height:22px;float:left;margin-left:8px;\">, <img src=\"https://www.sportsbase.io/images/clubs/2167.png\" alt=\"Logo of København\" style=\"height:22px;float:left;margin-left:8px;\">, <img src=\"https://www.sportsbase.io/images/clubs/2167.png\" alt=\"Logo of København\" style=\"height:22px;float:left;margin-left:8px;\">, <img src=\"https://www.sportsbase.io/images/clubs/2167.png\" alt=\"Logo of København\" style=\"height:22px;float:left;margin-left:8px;\">]\n"
     ]
    }
   ],
   "source": [
    "fck = soup.find('img', {'alt': 'Logo of København'})\n",
    "print(fck)"
   ]
  }
 ],
 "metadata": {
  "kernelspec": {
   "display_name": "Python 3",
   "language": "python",
   "name": "python3"
  },
  "language_info": {
   "codemirror_mode": {
    "name": "ipython",
    "version": 3
   },
   "file_extension": ".py",
   "mimetype": "text/x-python",
   "name": "python",
   "nbconvert_exporter": "python",
   "pygments_lexer": "ipython3",
   "version": "3.12.2"
  }
 },
 "nbformat": 4,
 "nbformat_minor": 2
}
